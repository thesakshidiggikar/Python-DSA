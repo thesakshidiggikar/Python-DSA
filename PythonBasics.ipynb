{
 "cells": [
  {
   "cell_type": "code",
   "execution_count": null,
   "id": "1c8630c4",
   "metadata": {},
   "outputs": [],
   "source": [
    "Write a program to input your name, age and city → Print them back.\n",
    "name= input(\"Enter your name: \" )\n",
    "age= input(\"Enter your age: \" )\n",
    "city= input(\"Enter your city: \" )\n",
    "print(name)\n",
    "print(age)\n",
    "print(city)\n",
    "\n"
   ]
  },
  {
   "cell_type": "code",
   "execution_count": 1,
   "id": "62406c0a",
   "metadata": {},
   "outputs": [
    {
     "name": "stdout",
     "output_type": "stream",
     "text": [
      "Addition 30\n",
      "Subtraction -10\n",
      "Multiplication 200\n",
      "Division 10\n",
      "Avg 15.0\n"
     ]
    }
   ],
   "source": [
    "#Input 2 numbers and print their sum, difference, and product.\n",
    "input_1 = int(input(\"Enter number 1: \"))\n",
    "input_2 = int(input(\"Enter number 2 : \"))\n",
    "print(\"Addition\",input_1+input_2)\n",
    "print(\"Subtraction\",input_1-input_2)\n",
    "print(\"Multiplication\" , input_1*input_2)\n",
    "print(\"Division\",input_1%input_2)\n",
    "\n",
    "print(\"Avg\",(input_1+input_2)/2)"
   ]
  },
  {
   "cell_type": "code",
   "execution_count": null,
   "id": "a92704a4",
   "metadata": {},
   "outputs": [],
   "source": [
    "#✅ Check if number is even or odd\n",
    "number = int(input(\"Enter a number: \")) \n",
    "if (number%2)==0:\n",
    "    print(\"Even\")\n",
    "else:\n",
    "    print(\"odd\")\n",
    "\n",
    "#✅ Take 3 numbers, print the largest\n",
    "number_1= int(input(\"Enter first number: \"))\n",
    "number_2 = int(input(\"Enter second number: \"))\n",
    "number_3 = int(input(\"Enter third number: \"))\n",
    "if (number_1>=number_2 and input_1>=number_3):\n",
    "    print(\"Largest number is\", number_1)\n",
    "elif (number_2>=input_1 and number_2>=number_3):\n",
    "    print(\"Largest number is\", number_2)\n",
    "else:\n",
    "    print(\"Largest number is\", number_3)\n",
    "\n",
    "#✅ Take marks input and print grade (A, B, C, Fail)\n",
    "marks= int(input(\"enter Marks: \"))\n",
    "if (marks>=60):\n",
    "    print(\"A\")\n",
    "elif (marks>50):\n",
    "    print(\"B\")\n",
    "elif (marks>=40):\n",
    "    print(\"C\")\n",
    "elif (marks<=40):\n",
    "    print(\"Fail\")"
   ]
  },
  {
   "cell_type": "code",
   "execution_count": 5,
   "id": "49fae1e9",
   "metadata": {},
   "outputs": [
    {
     "name": "stdout",
     "output_type": "stream",
     "text": [
      "5\n",
      "10\n",
      "15\n",
      "20\n",
      "25\n",
      "30\n",
      "35\n",
      "40\n",
      "45\n",
      "50\n"
     ]
    }
   ],
   "source": [
    "for i in range(5, 51, 5):\n",
    "    print(i)"
   ]
  },
  {
   "cell_type": "code",
   "execution_count": null,
   "id": "08654110",
   "metadata": {},
   "outputs": [],
   "source": []
  },
  {
   "cell_type": "code",
   "execution_count": null,
   "id": "3bcde304",
   "metadata": {},
   "outputs": [],
   "source": []
  }
 ],
 "metadata": {
  "kernelspec": {
   "display_name": "base",
   "language": "python",
   "name": "python3"
  },
  "language_info": {
   "codemirror_mode": {
    "name": "ipython",
    "version": 3
   },
   "file_extension": ".py",
   "mimetype": "text/x-python",
   "name": "python",
   "nbconvert_exporter": "python",
   "pygments_lexer": "ipython3",
   "version": "3.12.7"
  }
 },
 "nbformat": 4,
 "nbformat_minor": 5
}
