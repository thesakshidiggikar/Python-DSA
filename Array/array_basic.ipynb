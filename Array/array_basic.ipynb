{
 "cells": [
  {
   "cell_type": "code",
   "execution_count": null,
   "metadata": {},
   "outputs": [],
   "source": [
    "# array Declaration\n",
    "arr = []"
   ]
  },
  {
   "cell_type": "code",
   "execution_count": 1,
   "metadata": {},
   "outputs": [],
   "source": [
    "# Initialization\n",
    "\n",
    "# option 1  >> This list will store integer type elements\n",
    "arr1 = [1, 2, 3, 4, 5]\n",
    "\n",
    "# option 2  >>This list will store character type elements (strings in Python)\n",
    "arr2 = [\"a\", \"b\", \"c\", \"4\", \"5\", \"6\"]\n",
    "\n",
    "# option 3  >>This list will store float type elements\n",
    "arr = [1.4, 33.5, 67.2, 78.1]"
   ]
  },
  {
   "cell_type": "code",
   "execution_count": null,
   "metadata": {},
   "outputs": [],
   "source": [
    "# Types of Array\n",
    "\"\"\"\n",
    "Classified on basis of two ways :\n",
    "    1. On the basis of Size . : Fized size, Dynamic Size\n",
    "    2. On the basis of Dimensions. : 1D and Multi Dimensional array\n",
    "\"\"\""
   ]
  },
  {
   "cell_type": "code",
   "execution_count": 3,
   "metadata": {},
   "outputs": [
    {
     "name": "stdout",
     "output_type": "stream",
     "text": [
      "[0, 0, 0, 0, 0]\n"
     ]
    }
   ],
   "source": [
    "# Types of Array\n",
    "# 1. Fixed Sized array\n",
    "arr = [0] * 5\n",
    "print(arr)"
   ]
  },
  {
   "cell_type": "code",
   "execution_count": 4,
   "metadata": {},
   "outputs": [],
   "source": [
    "# 2. Dynamic Sized Array\n",
    "arr = []"
   ]
  },
  {
   "cell_type": "markdown",
   "metadata": {},
   "source": [
    "Operations of Array "
   ]
  },
  {
   "cell_type": "markdown",
   "metadata": {},
   "source": [
    "# Types of array in Traversal\n",
    "\n",
    "\n",
    "## 1.Sequential (Linear) Traversal\n",
    "## 2.Reverse Traversal\n",
    "## 3.Insertion in Array\n",
    "    #  1. Insertion at the Beginning (index [0]).\n",
    "    #  2. Insertion at the Specific Index .\n",
    "    #  3. Insertion at the End\n",
    "## 4. Deletion of Array\n",
    "    #  1. Deletion at the Beginning (index[0]).\n",
    "    #  2. Deletion at a specific Index.\n",
    "    #  3. Deletion at the End.\n",
    "## 5. Searching in Array.\n",
    "    #  1. Linear Search(Sequential Search).\n",
    "    #  2. Binary Search ( Efficient search for sorted arrays).\n",
    "\n",
    "\n"
   ]
  },
  {
   "cell_type": "code",
   "execution_count": null,
   "metadata": {},
   "outputs": [],
   "source": []
  }
 ],
 "metadata": {
  "kernelspec": {
   "display_name": "Python 3",
   "language": "python",
   "name": "python3"
  },
  "language_info": {
   "codemirror_mode": {
    "name": "ipython",
    "version": 3
   },
   "file_extension": ".py",
   "mimetype": "text/x-python",
   "name": "python",
   "nbconvert_exporter": "python",
   "pygments_lexer": "ipython3",
   "version": "3.12.2"
  }
 },
 "nbformat": 4,
 "nbformat_minor": 2
}
