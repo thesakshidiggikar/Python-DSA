{
 "cells": [
  {
   "cell_type": "markdown",
   "metadata": {},
   "source": [
    "Binary Search\n"
   ]
  },
  {
   "cell_type": "code",
   "execution_count": 1,
   "metadata": {},
   "outputs": [
    {
     "name": "stdout",
     "output_type": "stream",
     "text": [
      "Element is present at index 3\n"
     ]
    }
   ],
   "source": [
    "# It returns location of x in given array arr\n",
    "def binarySearch(arr, low, high, x):\n",
    "    while low <= high:\n",
    "        mid = low + (high - low) // 2\n",
    "\n",
    "        if arr[mid] == x:\n",
    "            return mid\n",
    "        elif arr[mid] < x:\n",
    "            low = mid + 1\n",
    "        else:\n",
    "            high = mid - 1\n",
    "    return -1\n",
    "\n",
    "\n",
    "# Driver Code\n",
    "if __name__ == \"__main__\":\n",
    "    arr = [2, 3, 4, 10, 40]\n",
    "    x = 10\n",
    "\n",
    "    # Function call\n",
    "    result = binarySearch(arr, 0, len(arr) - 1, x)\n",
    "    if result != -1:\n",
    "        print(\"Element is present at index\", result)\n",
    "    else:\n",
    "        print(\"Element is not present in array\")"
   ]
  },
  {
   "cell_type": "markdown",
   "metadata": {},
   "source": [
    "Selection Sort\n"
   ]
  },
  {
   "cell_type": "code",
   "execution_count": 4,
   "metadata": {},
   "outputs": [
    {
     "name": "stdout",
     "output_type": "stream",
     "text": [
      "Original array: 64 25 12 22 11 \n",
      "Sorted array: 11 12 22 25 64 \n"
     ]
    }
   ],
   "source": [
    "# Python program for implementation of Selection\n",
    "# Sort\n",
    "\n",
    "\n",
    "def selection_sort(arr):\n",
    "    n = len(arr)\n",
    "    for i in range(n - 1):\n",
    "\n",
    "        # Assume the current position holds\n",
    "        # the minimum element\n",
    "        min_idx = i\n",
    "\n",
    "        # Iterate through the unsorted portion\n",
    "        # to find the actual minimum\n",
    "        for j in range(i + 1, n):\n",
    "            if arr[j] < arr[min_idx]:\n",
    "\n",
    "                # Update min_idx if a smaller element is found\n",
    "                min_idx = j\n",
    "\n",
    "        # Move minimum element to its\n",
    "        # correct position\n",
    "        arr[i], arr[min_idx] = arr[min_idx], arr[i]\n",
    "\n",
    "\n",
    "def print_array(arr):\n",
    "    for val in arr:\n",
    "        print(val, end=\" \")\n",
    "    print()\n",
    "\n",
    "\n",
    "if __name__ == \"__main__\":\n",
    "    arr = [64, 25, 12, 22, 11]\n",
    "\n",
    "    print(\"Original array: \", end=\"\")\n",
    "    print_array(arr)\n",
    "\n",
    "    selection_sort(arr)\n",
    "\n",
    "    print(\"Sorted array: \", end=\"\")\n",
    "    print_array(arr)"
   ]
  },
  {
   "cell_type": "markdown",
   "metadata": {},
   "source": [
    "Insertion Sort\n"
   ]
  },
  {
   "cell_type": "code",
   "execution_count": 6,
   "metadata": {},
   "outputs": [
    {
     "name": "stdout",
     "output_type": "stream",
     "text": [
      "5 6 11 12 13 \n"
     ]
    }
   ],
   "source": [
    "# Function to sort array using insertion sort\n",
    "def insertionSort(arr):\n",
    "    for i in range(1, len(arr)):\n",
    "        key = arr[i]\n",
    "        j = i - 1\n",
    "\n",
    "        # move the element of array [ 0 ....i -1 ]that are greater then key to one position ahead of their current position\n",
    "        while j >= 0 and key < arr[j]:\n",
    "            arr[j + 1] = arr[j]\n",
    "            j -= 1\n",
    "        arr[j + 1] = key\n",
    "\n",
    "\n",
    "def printArray(arr):\n",
    "    for i in range(len(arr)):\n",
    "        print(arr[i], end=\" \")\n",
    "    print()\n",
    "\n",
    "\n",
    "# Driver method\n",
    "if __name__ == \"__main__\":\n",
    "    arr = [12, 11, 13, 5, 6]\n",
    "    insertionSort(arr)\n",
    "    printArray(arr)\n",
    "\n",
    "    # This code is contributed by Hritik Shah."
   ]
  },
  {
   "cell_type": "markdown",
   "metadata": {},
   "source": [
    "Quick sort\n"
   ]
  },
  {
   "cell_type": "code",
   "execution_count": 7,
   "metadata": {},
   "outputs": [
    {
     "name": "stdout",
     "output_type": "stream",
     "text": [
      "1 5 7 8 9 10 "
     ]
    }
   ],
   "source": [
    "# Partition function\n",
    "def partition(arr, low, high):\n",
    "\n",
    "    # Choose the pivot\n",
    "    pivot = arr[high]\n",
    "\n",
    "    # Index of smaller element and indicates\n",
    "    # the right position of pivot found so far\n",
    "    i = low - 1\n",
    "\n",
    "    # Traverse arr[low..high] and move all smaller\n",
    "    # elements to the left side. Elements from low to\n",
    "    # i are smaller after every iteration\n",
    "    for j in range(low, high):\n",
    "        if arr[j] < pivot:\n",
    "            i += 1\n",
    "            swap(arr, i, j)\n",
    "\n",
    "    # Move pivot after smaller elements and\n",
    "    # return its position\n",
    "    swap(arr, i + 1, high)\n",
    "    return i + 1\n",
    "\n",
    "\n",
    "# Swap function\n",
    "def swap(arr, i, j):\n",
    "    arr[i], arr[j] = arr[j], arr[i]\n",
    "\n",
    "\n",
    "# The QuickSort function implementation\n",
    "def quickSort(arr, low, high):\n",
    "    if low < high:\n",
    "\n",
    "        # pi is the partition return index of pivot\n",
    "        pi = partition(arr, low, high)\n",
    "\n",
    "        # Recursion calls for smaller elements\n",
    "        # and greater or equals elements\n",
    "        quickSort(arr, low, pi - 1)\n",
    "        quickSort(arr, pi + 1, high)\n",
    "\n",
    "\n",
    "# Main driver code\n",
    "if __name__ == \"__main__\":\n",
    "    arr = [10, 7, 8, 9, 1, 5]\n",
    "    n = len(arr)\n",
    "\n",
    "    quickSort(arr, 0, n - 1)\n",
    "\n",
    "    for val in arr:\n",
    "        print(val, end=\" \")"
   ]
  },
  {
   "cell_type": "markdown",
   "metadata": {},
   "source": [
    "Merge Sort\n"
   ]
  },
  {
   "cell_type": "code",
   "execution_count": null,
   "metadata": {},
   "outputs": [],
   "source": [
    "def merge(arr, left, mid, right):\n",
    "    n1 = mid - left + 1\n",
    "    n2 = right - mid\n",
    "\n",
    "    # Create temp arrays\n",
    "    L = [0] * n1\n",
    "    R = [0] * n2\n",
    "\n",
    "    # Copy data to temp arrays L[] and R[]\n",
    "    for i in range(n1):\n",
    "        L[i] = arr[left + i]\n",
    "    for j in range(n2):\n",
    "        R[j] = arr[mid + 1 + j]\n",
    "\n",
    "    i = 0  # Initial index of first subarray\n",
    "    j = 0  # Initial index of second subarray\n",
    "    k = left  # Initial index of merged subarray\n",
    "\n",
    "    # Merge the temp arrays back\n",
    "    # into arr[left..right]\n",
    "    while i < n1 and j < n2:\n",
    "        if L[i] <= R[j]:\n",
    "            arr[k] = L[i]\n",
    "            i += 1\n",
    "        else:\n",
    "            arr[k] = R[j]\n",
    "            j += 1\n",
    "        k += 1\n",
    "\n",
    "    # Copy the remaining elements of L[],\n",
    "    # if there are any\n",
    "    while i < n1:\n",
    "        arr[k] = L[i]\n",
    "        i += 1\n",
    "        k += 1\n",
    "\n",
    "    # Copy the remaining elements of R[],\n",
    "    # if there are any\n",
    "    while j < n2:\n",
    "        arr[k] = R[j]\n",
    "        j += 1\n",
    "        k += 1\n",
    "\n",
    "\n",
    "def merge_sort(arr, left, right):\n",
    "    if left < right:\n",
    "        mid = (left + right) // 2\n",
    "\n",
    "        merge_sort(arr, left, mid)\n",
    "        merge_sort(arr, mid + 1, right)\n",
    "        merge(arr, left, mid, right)\n",
    "\n",
    "\n",
    "def print_list(arr):\n",
    "    for i in arr:\n",
    "        print(i, end=\" \")\n",
    "    print()\n",
    "\n",
    "\n",
    "# Driver code\n",
    "if __name__ == \"__main__\":\n",
    "    arr = [12, 11, 13, 5, 6, 7]\n",
    "    print(\"Given array is\")\n",
    "    print_list(arr)\n",
    "\n",
    "    merge_sort(arr, 0, len(arr) - 1)\n",
    "\n",
    "    print(\"\\nSorted array is\")\n",
    "    print_list(arr)"
   ]
  },
  {
   "cell_type": "markdown",
   "metadata": {},
   "source": [
    "Cycle sort\n"
   ]
  },
  {
   "cell_type": "code",
   "execution_count": null,
   "metadata": {},
   "outputs": [],
   "source": []
  },
  {
   "cell_type": "markdown",
   "metadata": {},
   "source": [
    "HeapSort\n"
   ]
  },
  {
   "cell_type": "markdown",
   "metadata": {},
   "source": [
    "Sort in Python\n"
   ]
  },
  {
   "cell_type": "code",
   "execution_count": null,
   "metadata": {},
   "outputs": [],
   "source": []
  },
  {
   "cell_type": "markdown",
   "metadata": {},
   "source": [
    "Two pointers technique\n"
   ]
  },
  {
   "cell_type": "code",
   "execution_count": 8,
   "metadata": {},
   "outputs": [
    {
     "name": "stdout",
     "output_type": "stream",
     "text": [
      "true\n"
     ]
    }
   ],
   "source": [
    "# Function to check whether any pair exists\n",
    "# whose sum is equal to the given target value\n",
    "def two_sum(arr, target):\n",
    "    n = len(arr)\n",
    "\n",
    "    # Iterate through each element in the array\n",
    "    for i in range(n):\n",
    "\n",
    "        # For each element arr[i], check every\n",
    "        # other element arr[j] that comes after it\n",
    "        for j in range(i + 1, n):\n",
    "\n",
    "            # Check if the sum of the current pair\n",
    "            # equals the target\n",
    "            if arr[i] + arr[j] == target:\n",
    "                return True\n",
    "\n",
    "    # If no pair is found after checking\n",
    "    # all possibilities\n",
    "    return False\n",
    "\n",
    "\n",
    "arr = [0, -1, 2, -3, 1]\n",
    "target = -2\n",
    "\n",
    "# Call the two_sum function and print the result\n",
    "if two_sum(arr, target):\n",
    "    print(\"true\")\n",
    "else:\n",
    "    print(\"false\")"
   ]
  },
  {
   "cell_type": "markdown",
   "metadata": {},
   "source": [
    "Prefix sum Technique\n"
   ]
  },
  {
   "cell_type": "code",
   "execution_count": 9,
   "metadata": {},
   "outputs": [
    {
     "name": "stdout",
     "output_type": "stream",
     "text": [
      "10 30 40 45 60 "
     ]
    }
   ],
   "source": [
    "# Function to find the prefix sum array\n",
    "def findPrefixSum(arr):\n",
    "    n = len(arr)\n",
    "\n",
    "    # to store the prefix sum\n",
    "    prefixSum = [0] * n\n",
    "\n",
    "    # initialize the first element\n",
    "    prefixSum[0] = arr[0]\n",
    "\n",
    "    # adding present element with previous element\n",
    "    for i in range(1, n):\n",
    "        prefixSum[i] = prefixSum[i - 1] + arr[i]\n",
    "    return prefixSum\n",
    "\n",
    "\n",
    "if __name__ == \"__main__\":\n",
    "    arr = [10, 20, 10, 5, 15]\n",
    "    prefixSum = findPrefixSum(arr)\n",
    "    for i in prefixSum:\n",
    "        print(i, end=\" \")"
   ]
  },
  {
   "cell_type": "markdown",
   "metadata": {},
   "source": [
    "Basic of Hashing"
   ]
  },
  {
   "cell_type": "markdown",
   "metadata": {},
   "source": [
    "Sliding window technique"
   ]
  },
  {
   "cell_type": "code",
   "execution_count": 10,
   "metadata": {},
   "outputs": [
    {
     "name": "stdout",
     "output_type": "stream",
     "text": [
      "24\n"
     ]
    }
   ],
   "source": [
    "# code\n",
    "import sys\n",
    "\n",
    "# O(n * k) solution for finding\n",
    "# maximum sum of a subarray of size k\n",
    "INT_MIN = -sys.maxsize - 1\n",
    "\n",
    "# Returns maximum sum in a\n",
    "# subarray of size k.\n",
    "\n",
    "\n",
    "def maxSum(arr, n, k):\n",
    "\n",
    "    max_sum = INT_MIN\n",
    "\n",
    "    # consider all blocks\n",
    "    # start with i\n",
    "    for i in range(n - k + 1):\n",
    "        current_sum = 0\n",
    "        for j in range(k):\n",
    "            current_sum = current_sum + arr[i + j]\n",
    "\n",
    "        max_sum = max(current_sum, max_sum)\n",
    "\n",
    "    return max_sum\n",
    "\n",
    "\n",
    "# Driver code\n",
    "arr = [1, 4, 2, 10, 2, 3, 1, 0, 20]\n",
    "k = 4\n",
    "n = len(arr)\n",
    "print(maxSum(arr, n, k))\n",
    "\n",
    "# This code is contributed by mits"
   ]
  },
  {
   "cell_type": "code",
   "execution_count": null,
   "metadata": {},
   "outputs": [],
   "source": []
  }
 ],
 "metadata": {
  "kernelspec": {
   "display_name": "Python 3",
   "language": "python",
   "name": "python3"
  },
  "language_info": {
   "codemirror_mode": {
    "name": "ipython",
    "version": 3
   },
   "file_extension": ".py",
   "mimetype": "text/x-python",
   "name": "python",
   "nbconvert_exporter": "python",
   "pygments_lexer": "ipython3",
   "version": "3.12.2"
  }
 },
 "nbformat": 4,
 "nbformat_minor": 2
}
