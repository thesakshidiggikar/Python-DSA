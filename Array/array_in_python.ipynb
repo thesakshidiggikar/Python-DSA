{
 "cells": [
  {
   "cell_type": "markdown",
   "metadata": {},
   "source": [
    "# Python List"
   ]
  },
  {
   "cell_type": "code",
   "execution_count": 1,
   "metadata": {},
   "outputs": [
    {
     "name": "stdout",
     "output_type": "stream",
     "text": [
      "[10, 20, 30, 40, 50, 60]\n"
     ]
    }
   ],
   "source": [
    "# creating a list in python\n",
    "a = [10, 20, 30, 40, 50, 60]\n",
    "\n",
    "print(a)"
   ]
  },
  {
   "cell_type": "code",
   "execution_count": 5,
   "metadata": {},
   "outputs": [
    {
     "name": "stdout",
     "output_type": "stream",
     "text": [
      "This will return value of that index position 0 :  10\n",
      "This will return value of that index position 4:  50\n"
     ]
    }
   ],
   "source": [
    "# Accessing the element using indexing\n",
    "print(\"This will return value of that index position 0 : \", a[0])\n",
    "print(\"This will return value of that index position 4: \", a[4])"
   ]
  },
  {
   "cell_type": "code",
   "execution_count": 6,
   "metadata": {},
   "outputs": [
    {
     "name": "stdout",
     "output_type": "stream",
     "text": [
      "List of numerical values : [1, 2, 3, 4, 5, 6, 7, 8]\n",
      "List of strings  : ['a', 'ab', 'abc', 'abcd', 'abcde']\n",
      "List of Mixed data types :  [1, 'Hello', 4.6, '@', 4.78, 3]\n"
     ]
    }
   ],
   "source": [
    "# Creating a List\n",
    "# List of integers\n",
    "a = [1, 2, 3, 4, 5, 6, 7, 8]\n",
    "\n",
    "# List of Strings\n",
    "b = [\"a\", \"ab\", \"abc\", \"abcd\", \"abcde\"]\n",
    "\n",
    "# List of Mixed data types\n",
    "c = [1, \"Hello\", 4.6, \"@\", 4.78, 3]\n",
    "\n",
    "print(\"List of numerical values :\", a)\n",
    "print(\"List of strings  :\", b)\n",
    "print(\"List of Mixed data types : \", c)"
   ]
  },
  {
   "cell_type": "markdown",
   "metadata": {},
   "source": [
    "# Using List() Constructor"
   ]
  },
  {
   "cell_type": "code",
   "execution_count": 7,
   "metadata": {},
   "outputs": [
    {
     "name": "stdout",
     "output_type": "stream",
     "text": [
      "[1, 2, 4, 'Apple', 4.7]\n"
     ]
    }
   ],
   "source": [
    "# for a tuple\n",
    "a = list((1, 2, 4, \"Apple\", 4.7))\n",
    "print(a)"
   ]
  },
  {
   "cell_type": "code",
   "execution_count": 11,
   "metadata": {},
   "outputs": [
    {
     "name": "stdout",
     "output_type": "stream",
     "text": [
      "The value of added in the empty list initialized  [10]\n",
      "[10, 4]\n",
      "[10, 4, 10, 30, 50, 60]\n"
     ]
    }
   ],
   "source": [
    "# Adding the element into list\n",
    "\n",
    "# initialized an empty list\n",
    "a = []\n",
    "\n",
    "# Adding the 10 to the end of list\n",
    "a.append(10)\n",
    "print(\"The value of added in the empty list initialized \", a)\n",
    "\n",
    "# Inserting the 4 at index 0\n",
    "a.insert(1, 4)\n",
    "print(a)\n",
    "\n",
    "# Adding the multiple element  [ 10,30,40,50] at the end\n",
    "a.extend([10, 30, 50, 60])\n",
    "print(a)"
   ]
  },
  {
   "cell_type": "code",
   "execution_count": 12,
   "metadata": {},
   "outputs": [
    {
     "name": "stdout",
     "output_type": "stream",
     "text": [
      "[10, 14, 10, 30, 50, 60]\n"
     ]
    }
   ],
   "source": [
    "# Updating element into a List\n",
    "a = [10, 4, 10, 30, 50, 60]\n",
    "a[1] = 14\n",
    "print(a)"
   ]
  },
  {
   "cell_type": "markdown",
   "metadata": {},
   "source": [
    "# Removing the element from list\n",
    "\n",
    "### 1. remove() : Remove the first occurance of an element\n",
    "### 2. pop() : Remove the element at a specific index or the last element if no index is specified \n",
    "### 3. del statement : Deleted an element at a specific index.\n"
   ]
  },
  {
   "cell_type": "code",
   "execution_count": 14,
   "metadata": {},
   "outputs": [
    {
     "name": "stdout",
     "output_type": "stream",
     "text": [
      "After remove 30 : [10, 20, 40, 50, 60, 70, 80]\n",
      "\n",
      "\n",
      "Popped value :  20\n",
      "After pop(1) [10, 40, 50, 60, 70, 80]\n",
      "\n",
      "\n",
      "After del a[3] [10, 40, 50, 70, 80]\n"
     ]
    }
   ],
   "source": [
    "a = [10, 20, 30, 40, 50, 60, 70, 80]\n",
    "\n",
    "# Remove the firts occurance of 30\n",
    "a.remove(30)\n",
    "print(\"After remove 30 :\", a)\n",
    "print(\"\\n\")\n",
    "\n",
    "# Remove the element at index 1 (20 )\n",
    "pop_val = a.pop(1)\n",
    "print(\"Popped value : \", pop_val)\n",
    "print(\"After pop(1)\", a)\n",
    "print(\"\\n\")\n",
    "# Delete the first element (10)\n",
    "del a[3]\n",
    "print(\"After del a[3]\", a)"
   ]
  },
  {
   "cell_type": "markdown",
   "metadata": {},
   "source": [
    "# Iterating over lists"
   ]
  },
  {
   "cell_type": "code",
   "execution_count": 15,
   "metadata": {},
   "outputs": [
    {
     "name": "stdout",
     "output_type": "stream",
     "text": [
      "10\n",
      "20\n",
      "30\n",
      "40\n",
      "50\n",
      "60\n",
      "70\n",
      "80\n"
     ]
    }
   ],
   "source": [
    "# using for loop\n",
    "a = [10, 20, 30, 40, 50, 60, 70, 80]\n",
    "\n",
    "for i in a:\n",
    "    print(i)"
   ]
  },
  {
   "cell_type": "code",
   "execution_count": 16,
   "metadata": {},
   "outputs": [
    {
     "name": "stdout",
     "output_type": "stream",
     "text": [
      "6\n"
     ]
    }
   ],
   "source": [
    "# using nested list in python\n",
    "\n",
    "matrix = [[1, 2, 3], [4, 5, 6], [7, 8, 9]]\n",
    "\n",
    "# Access element at row 2, column 3\n",
    "print(matrix[1][2])"
   ]
  },
  {
   "cell_type": "code",
   "execution_count": null,
   "metadata": {},
   "outputs": [],
   "source": []
  }
 ],
 "metadata": {
  "kernelspec": {
   "display_name": "Python 3",
   "language": "python",
   "name": "python3"
  },
  "language_info": {
   "codemirror_mode": {
    "name": "ipython",
    "version": 3
   },
   "file_extension": ".py",
   "mimetype": "text/x-python",
   "name": "python",
   "nbconvert_exporter": "python",
   "pygments_lexer": "ipython3",
   "version": "3.12.2"
  }
 },
 "nbformat": 4,
 "nbformat_minor": 2
}
