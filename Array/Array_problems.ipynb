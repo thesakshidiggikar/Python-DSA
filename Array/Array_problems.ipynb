{
 "cells": [
  {
   "cell_type": "markdown",
   "metadata": {},
   "source": [
    "# Basic Problems on Array:\n"
   ]
  },
  {
   "cell_type": "markdown",
   "metadata": {},
   "source": [
    "Print Alternates"
   ]
  },
  {
   "cell_type": "code",
   "execution_count": 1,
   "metadata": {},
   "outputs": [
    {
     "name": "stdout",
     "output_type": "stream",
     "text": [
      "10 30 50\n"
     ]
    }
   ],
   "source": [
    "# Iterative Approach\n",
    "\"\"\"The idea is to start iterating from index 0, print the element\\n\n",
    "at the index, and then increment the index by 2 to move the next alternative\\n\n",
    "element. Keep on printing the element till we reach the end of array.\n",
    "\n",
    "\"\"\"\n",
    "\n",
    "\n",
    "def getAlternates(arr):\n",
    "    res = []\n",
    "\n",
    "    for i in range(0, len(arr), 2):\n",
    "        res.append(arr[i])\n",
    "    return res\n",
    "\n",
    "\n",
    "if __name__ == \"__main__\":\n",
    "    arr = [10, 20, 30, 40, 50]\n",
    "    res = getAlternates(arr)\n",
    "    print(\" \".join(map(str, res)))"
   ]
  },
  {
   "cell_type": "code",
   "execution_count": 2,
   "metadata": {},
   "outputs": [
    {
     "name": "stdout",
     "output_type": "stream",
     "text": [
      "10 30 50\n"
     ]
    }
   ],
   "source": [
    "# Recursive Approach\n",
    "\n",
    "\"\"\"We can also print the alternative element using recursion.\\n\n",
    "We start from index = 0 , that is the first element of the array \\n\n",
    "and print its value. We then call the recursive function again with the (index +2)\"\"\"\n",
    "\n",
    "# Recursive Python Program to print alternate elements\n",
    "# of the array\n",
    "\n",
    "\n",
    "# Recursive function to store all alternate elements\n",
    "def getAlternatesRec(arr, idx, res):\n",
    "    if idx < len(arr):\n",
    "        res.append(arr[idx])\n",
    "        getAlternatesRec(arr, idx + 2, res)\n",
    "\n",
    "\n",
    "def getAlternates(arr):\n",
    "    res = []\n",
    "    getAlternatesRec(arr, 0, res)\n",
    "    return res\n",
    "\n",
    "\n",
    "if __name__ == \"__main__\":\n",
    "    arr = [10, 20, 30, 40, 50]\n",
    "    res = getAlternates(arr)\n",
    "    print(\" \".join(map(str, res)))"
   ]
  },
  {
   "cell_type": "markdown",
   "metadata": {},
   "source": [
    "Linear Search"
   ]
  },
  {
   "cell_type": "code",
   "execution_count": 3,
   "metadata": {},
   "outputs": [
    {
     "name": "stdout",
     "output_type": "stream",
     "text": [
      "Element is present at index 3\n"
     ]
    }
   ],
   "source": [
    "def search(arr, N, x):\n",
    "\n",
    "    for i in range(0, N):\n",
    "        if arr[i] == x:\n",
    "            return i\n",
    "    return -1\n",
    "\n",
    "\n",
    "# Driver Code\n",
    "if __name__ == \"__main__\":\n",
    "    arr = [2, 3, 4, 10, 40]\n",
    "    x = 10\n",
    "    N = len(arr)\n",
    "\n",
    "    # Function call\n",
    "    result = search(arr, N, x)\n",
    "    if result == -1:\n",
    "        print(\"Element is not present in array\")\n",
    "    else:\n",
    "        print(\"Element is present at index\", result)"
   ]
  },
  {
   "cell_type": "markdown",
   "metadata": {},
   "source": [
    "Largest Element"
   ]
  },
  {
   "cell_type": "code",
   "execution_count": 7,
   "metadata": {},
   "outputs": [
    {
     "name": "stdout",
     "output_type": "stream",
     "text": [
      "9808\n"
     ]
    }
   ],
   "source": [
    "def largest(arr, n):\n",
    "    mx = arr[0]\n",
    "\n",
    "    for i in range(0, n):\n",
    "        if arr[i] > mx:\n",
    "            mx = arr[i]\n",
    "    return mx\n",
    "\n",
    "\n",
    "if __name__ == \"__main__\":\n",
    "    arr = [10, 324, 45, 90, 9808]\n",
    "    n = len(arr)\n",
    "\n",
    "    ans = largest(arr, n)\n",
    "\n",
    "    print(ans)"
   ]
  },
  {
   "cell_type": "markdown",
   "metadata": {},
   "source": [
    "Second Largest"
   ]
  },
  {
   "cell_type": "code",
   "execution_count": 8,
   "metadata": {},
   "outputs": [
    {
     "name": "stdout",
     "output_type": "stream",
     "text": [
      "34\n"
     ]
    }
   ],
   "source": [
    "# Python program to find second largest element in an array\n",
    "# using Sorting\n",
    "\n",
    "\n",
    "def getSecondLargest(arr):\n",
    "    n = len(arr)\n",
    "\n",
    "    # sort the element to find the 2n largets element\n",
    "    arr.sort()\n",
    "\n",
    "    # start the second last element ,as second last element is the largest\n",
    "    for i in range(n - 2, -1, -1):\n",
    "        # return the first element which is not equal to the largest element\n",
    "        if arr[i] != arr[n - 1]:\n",
    "            return arr[i]\n",
    "    return -1\n",
    "\n",
    "\n",
    "if __name__ == \"__main__\":\n",
    "    arr = [12, 35, 1, 10, 34, 1]\n",
    "    print(getSecondLargest(arr))"
   ]
  },
  {
   "cell_type": "markdown",
   "metadata": {},
   "source": [
    "Largest Three"
   ]
  },
  {
   "cell_type": "code",
   "execution_count": null,
   "metadata": {},
   "outputs": [],
   "source": [
    "# Python program for find the largest\n",
    "# three elements in an array\n",
    "def print3largest(arr):\n",
    "    arr_size = len(arr)\n",
    "\n",
    "    # There should be atleast three elements\n",
    "    if arr_size < 3:\n",
    "        print(\"Invalid Input\")\n",
    "        return\n",
    "\n",
    "    third = first = second = float(\"-inf\") #inf means infinity\n",
    "\n",
    "    for i in range(arr_size):\n",
    "        # If current element is greater than first\n",
    "        if arr[i] > first:\n",
    "            third = second\n",
    "            second = first\n",
    "            first = arr[i]\n",
    "\n",
    "        # If arr[i] is in between first and second then update second\n",
    "        elif arr[i] > second and arr[i] != first:\n",
    "            third = second\n",
    "            second = arr[i]\n",
    "\n",
    "        elif arr[i] > third and arr[i] != second and arr[i] != first:\n",
    "            third = arr[i]\n",
    "\n",
    "    print(\"Three largest elements are\", first, second, third)\n",
    "\n",
    "\n",
    "# Driver code\n",
    "arr = [12, 13, 1, 10, 34, 11, 34]\n",
    "print3largest(arr)"
   ]
  },
  {
   "cell_type": "markdown",
   "metadata": {},
   "source": [
    "Leaders in array"
   ]
  },
  {
   "cell_type": "code",
   "execution_count": 9,
   "metadata": {},
   "outputs": [
    {
     "name": "stdout",
     "output_type": "stream",
     "text": [
      "17 5 2\n"
     ]
    }
   ],
   "source": [
    "def leaders(arr):\n",
    "    n = len(arr)\n",
    "    result = []\n",
    "\n",
    "    for i in range(n):\n",
    "\n",
    "        # check the element to right\n",
    "        for j in range(i + 1, n):\n",
    "            if arr[i] < arr[j]:\n",
    "                break\n",
    "        else:\n",
    "            # if no larger element was found\n",
    "            result.append(arr[i])\n",
    "    return result\n",
    "\n",
    "\n",
    "if __name__ == \"__main__\":\n",
    "    arr = [16, 17, 4, 3, 5, 2]\n",
    "    result = leaders(arr)\n",
    "    print(\" \".join(map(str, result)))"
   ]
  },
  {
   "cell_type": "markdown",
   "metadata": {},
   "source": [
    "Check if sorted"
   ]
  },
  {
   "cell_type": "code",
   "execution_count": 11,
   "metadata": {},
   "outputs": [
    {
     "name": "stdout",
     "output_type": "stream",
     "text": [
      "Yes\n"
     ]
    }
   ],
   "source": [
    "def arraySortedOrNot(arr, n):\n",
    "    # array has one for no element\n",
    "    if n == 0 or n == 1:\n",
    "        return True\n",
    "\n",
    "        for i in range(1, n):\n",
    "\n",
    "            # unsorted pair found\n",
    "            if arr[i - 1] > arr[i]:\n",
    "                return False\n",
    "    return True\n",
    "\n",
    "\n",
    "# Driver code\n",
    "arr = [20, 23, 23, 45, 78, 88]\n",
    "n = len(arr)\n",
    "if arraySortedOrNot(arr, n):\n",
    "    print(\"Yes\")\n",
    "else:\n",
    "    print(\"No\")"
   ]
  },
  {
   "cell_type": "markdown",
   "metadata": {},
   "source": [
    "Remove the Duplicates from sorted"
   ]
  },
  {
   "cell_type": "code",
   "execution_count": 12,
   "metadata": {},
   "outputs": [
    {
     "name": "stdout",
     "output_type": "stream",
     "text": [
      "1 2 3 4 5 "
     ]
    }
   ],
   "source": [
    "def removeDuplicates(arr):\n",
    "\n",
    "    # to track seen element\n",
    "    seen = set()\n",
    "\n",
    "    # to maintain the new size of array\n",
    "    idx = 0\n",
    "\n",
    "    for i in range(len(arr)):\n",
    "        if arr[i] not in seen:\n",
    "            seen.add(arr[i])\n",
    "            arr[idx] = arr[i]\n",
    "            idx += 1\n",
    "    return idx\n",
    "\n",
    "\n",
    "if __name__ == \"__main__\":\n",
    "    arr = [1, 2, 2, 3, 4, 4, 4, 5, 5]\n",
    "    newSize = removeDuplicates(arr)\n",
    "\n",
    "    for i in range(newSize):\n",
    "        print(arr[i], end=\" \")"
   ]
  },
  {
   "cell_type": "markdown",
   "metadata": {},
   "source": [
    "Generate all sub array"
   ]
  },
  {
   "cell_type": "code",
   "execution_count": 13,
   "metadata": {},
   "outputs": [
    {
     "name": "stdout",
     "output_type": "stream",
     "text": [
      "All Non-empty Subarrays:\n",
      "1 \n",
      "1 2 \n",
      "1 2 3 \n",
      "1 2 3 4 \n",
      "2 \n",
      "2 3 \n",
      "2 3 4 \n",
      "3 \n",
      "3 4 \n",
      "4 \n"
     ]
    }
   ],
   "source": [
    "# Prints all subarrays in arr[0..n-1]\n",
    "def sub_array(arr):\n",
    "\n",
    "    n = len(arr)\n",
    "\n",
    "    # pick the startign point\n",
    "    for i in range(n):\n",
    "\n",
    "        # pick the ending point\n",
    "        for j in range(i, n):\n",
    "            # print the subarray between current starting and ending\n",
    "            for k in range(i, j + 1):\n",
    "                print(arr[k], end=\" \")\n",
    "            print()\n",
    "\n",
    "\n",
    "# Driver code\n",
    "arr = [1, 2, 3, 4]\n",
    "print(\"All Non-empty Subarrays:\")\n",
    "sub_array(arr)"
   ]
  },
  {
   "cell_type": "markdown",
   "metadata": {},
   "source": [
    "Reverse an Array"
   ]
  },
  {
   "cell_type": "code",
   "execution_count": null,
   "metadata": {},
   "outputs": [
    {
     "name": "stdout",
     "output_type": "stream",
     "text": [
      "5 6 2 3 4 1 "
     ]
    }
   ],
   "source": [
    "# function to reverse an array\n",
    "def reverseArray(arr):\n",
    "    n = len(arr)\n",
    "\n",
    "    # temporary array to store element in reversed order\n",
    "    temp = [0] * n\n",
    "\n",
    "    # copy the element form original array to temp in reveresd order\n",
    "    for i in range(n):\n",
    "        temp[i] = arr[n - i - 1]\n",
    "\n",
    "    # copy element  back to ogirinal array\n",
    "    for i in range(n):\n",
    "        arr[i] = temp[i]\n",
    "\n",
    "if __name__ == \"__main__\":\n",
    "    arr = [1, 4, 3, 2, 6, 5]\n",
    "\n",
    "    reverseArray(arr)\n",
    "\n",
    "    for i in range(len(arr)):\n",
    "        print(arr[i], end=\" \")"
   ]
  },
  {
   "cell_type": "markdown",
   "metadata": {},
   "source": [
    "Rotate an Array"
   ]
  },
  {
   "cell_type": "code",
   "execution_count": null,
   "metadata": {},
   "outputs": [],
   "source": [
    "#clock wise rotation\n",
    "\n"
   ]
  },
  {
   "cell_type": "markdown",
   "metadata": {},
   "source": [
    "Zeroes at End"
   ]
  },
  {
   "cell_type": "code",
   "execution_count": 16,
   "metadata": {},
   "outputs": [
    {
     "name": "stdout",
     "output_type": "stream",
     "text": [
      "1 2 4 3 5 0 0 0 "
     ]
    }
   ],
   "source": [
    "# function to move all zeroes to the end\n",
    "def pushZerosToEnd(arr):\n",
    "    n = len(arr)\n",
    "    temp = [0] * n\n",
    "\n",
    "    # to keep track of the index in temp [ ]\n",
    "    j = 0\n",
    "\n",
    "    # copy non-zero element to temp [ ]\n",
    "    for i in range(n):\n",
    "        if arr[i] != 0:\n",
    "            temp[j] = arr[i]\n",
    "            j += 1\n",
    "\n",
    "    # fill remaining position in temp [] with zeroes\n",
    "    while j < n:\n",
    "        temp[j] = 0\n",
    "        j += 1\n",
    "\n",
    "    # copy the element from temp[] to arr []\n",
    "    for i in range(n):\n",
    "        arr[i] = temp[i]\n",
    "\n",
    "\n",
    "if __name__ == \"__main__\":\n",
    "    arr = [1, 2, 0, 4, 3, 0, 5, 0]\n",
    "    pushZerosToEnd(arr)\n",
    "\n",
    "    # Print the modified array\n",
    "    for num in arr:\n",
    "        print(num, end=\" \")"
   ]
  },
  {
   "cell_type": "markdown",
   "metadata": {},
   "source": [
    "Min Increment to make equal"
   ]
  },
  {
   "cell_type": "code",
   "execution_count": 18,
   "metadata": {},
   "outputs": [
    {
     "name": "stdout",
     "output_type": "stream",
     "text": [
      "24\n"
     ]
    }
   ],
   "source": [
    "# Minimum increment by k operations to make all equal\n",
    "\n",
    "\n",
    "# Python3 Program to make all array equal\n",
    "\n",
    "\n",
    "# function for calculating min operations\n",
    "def minOps(arr, n, k):\n",
    "\n",
    "    # max elements of array\n",
    "    max1 = max(arr)\n",
    "    res = 0\n",
    "\n",
    "    # iterate for all elements\n",
    "    for i in range(0, n):\n",
    "\n",
    "        # check if element can make equal to\n",
    "        # max or not if not then return -1\n",
    "        if (max1 - arr[i]) % k != 0:\n",
    "            return -1\n",
    "\n",
    "        # else update res for\n",
    "        # required operations\n",
    "        else:\n",
    "            res += (max1 - arr[i]) / k\n",
    "\n",
    "    # return result\n",
    "    return int(res)\n",
    "\n",
    "\n",
    "# driver program\n",
    "arr = [21, 33, 9, 45, 63]\n",
    "n = len(arr)\n",
    "k = 6\n",
    "print(minOps(arr, n, k))\n",
    "\n",
    "# This code is contributed by\n",
    "# Smitha Dinesh Semwal"
   ]
  },
  {
   "cell_type": "markdown",
   "metadata": {},
   "source": [
    "Min Cost to make size 1"
   ]
  },
  {
   "cell_type": "code",
   "execution_count": 19,
   "metadata": {},
   "outputs": [
    {
     "name": "stdout",
     "output_type": "stream",
     "text": [
      "4\n"
     ]
    }
   ],
   "source": [
    "# Python program to find minimum\n",
    "# cost to reduce array size to 1\n",
    "\n",
    "\n",
    "# function to calculate the\n",
    "# minimum cost\n",
    "def cost(a, n):\n",
    "\n",
    "    # Minimum cost is n-1 multiplied\n",
    "    # with minimum element.\n",
    "    return (n - 1) * min(a)\n",
    "\n",
    "\n",
    "# driver code\n",
    "a = [4, 3, 2]\n",
    "n = len(a)\n",
    "print(cost(a, n))\n",
    "\n",
    "# This code is contributed by\n",
    "# Smitha Dinesh Semwal"
   ]
  }
 ],
 "metadata": {
  "kernelspec": {
   "display_name": "Python 3",
   "language": "python",
   "name": "python3"
  },
  "language_info": {
   "codemirror_mode": {
    "name": "ipython",
    "version": 3
   },
   "file_extension": ".py",
   "mimetype": "text/x-python",
   "name": "python",
   "nbconvert_exporter": "python",
   "pygments_lexer": "ipython3",
   "version": "3.12.2"
  }
 },
 "nbformat": 4,
 "nbformat_minor": 2
}
