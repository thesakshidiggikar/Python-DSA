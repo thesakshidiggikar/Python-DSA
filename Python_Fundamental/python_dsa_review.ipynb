{
 "cells": [
  {
   "cell_type": "markdown",
   "id": "3d7e06d8",
   "metadata": {},
   "source": [
    "# Python One-Shot Review for DSA\n",
    "\n",
    "This notebook covers the most important Python concepts you need to start with Data Structures and Algorithms (DSA).\n"
   ]
  },
  {
   "cell_type": "markdown",
   "id": "3b10a151",
   "metadata": {},
   "source": [
    "## 1. Basic Python Concepts for DSA\n",
    "\n",
    "- **Variables & Data Types**: int, float, str, bool\n",
    "- **Lists**: Ordered, mutable collections\n",
    "- **Tuples**: Ordered, immutable collections\n",
    "- **Dictionaries**: Key-value pairs\n",
    "- **Sets**: Unordered, unique elements\n",
    "- **Functions**: Reusable code blocks\n",
    "- **Conditionals**: if, elif, else\n",
    "- **Loops**: for, while\n",
    "- **Input/Output**: input(), print()\n",
    "- **List Comprehensions**: Short way to create lists\n",
    "- **Basic String Operations**\n",
    "\n",
    "You should be comfortable with these before starting DSA.\n"
   ]
  },
  {
   "cell_type": "markdown",
   "id": "2a330b3a",
   "metadata": {},
   "source": [
    "## What You MUST Know Before Starting DSA in Python\n",
    "\n",
    "1. **Variables & Data Types**: How to store and use numbers, strings, and booleans.\n",
    "2. **Operators**: Arithmetic, comparison, logical, assignment, membership, and identity operators.\n",
    "3. **Input/Output**: Using `input()` and `print()` for basic interaction.\n",
    "4. **Conditional Statements**: `if`, `elif`, `else` for decision making.\n",
    "5. **Loops**: `for` and `while` loops for repeating code.\n",
    "6. **Lists**: How to create, access, modify, and iterate over lists.\n",
    "7. **Tuples**: Immutable sequences, useful for fixed data.\n",
    "8. **Dictionaries**: Key-value pairs for fast lookups.\n",
    "9. **Sets**: Unique, unordered collections for membership tests.\n",
    "10. **Functions**: Writing reusable code blocks with `def`.\n",
    "11. **String Manipulation**: Basic string methods and formatting.\n",
    "12. **List Comprehensions**: Shortcuts for creating lists.\n",
    "13. **Exception Handling**: Using `try` and `except` to handle errors.\n",
    "14. **Basic File Handling**: Reading from and writing to files.\n",
    "15. **Basic OOP Concepts**: Classes and objects (just the basics).\n",
    "\n",
    "**Tip:** If you are comfortable with these, you will be able to focus on DSA logic without getting stuck on Python syntax.\n"
   ]
  },
  {
   "cell_type": "code",
   "execution_count": null,
   "id": "3cb6b220",
   "metadata": {},
   "outputs": [],
   "source": [
    "# Example: Variables and Data Types\n",
    "a = 10  # int\n",
    "b = 3.14  # float\n",
    "c = \"hello\"  # str\n",
    "d = True  # bool\n",
    "print(a, b, c, d)"
   ]
  },
  {
   "cell_type": "code",
   "execution_count": null,
   "id": "246f9696",
   "metadata": {},
   "outputs": [],
   "source": [
    "# Example: Lists\n",
    "my_list = [1, 2, 3, 4]\n",
    "print(my_list)\n",
    "my_list.append(5)  # Add element\n",
    "print(my_list)"
   ]
  },
  {
   "cell_type": "code",
   "execution_count": null,
   "id": "463f035f",
   "metadata": {},
   "outputs": [],
   "source": [
    "# Example: Dictionary\n",
    "my_dict = {\"a\": 1, \"b\": 2}\n",
    "print(my_dict)\n",
    "my_dict[\"c\"] = 3\n",
    "print(my_dict)"
   ]
  },
  {
   "cell_type": "markdown",
   "id": "c358402b",
   "metadata": {},
   "source": [
    "## 2. Loops in Python (Step by Step)\n",
    "\n",
    "Loops are used to repeat a block of code multiple times. There are two main types:\n",
    "\n",
    "- **for loop**\n",
    "- **while loop**\n"
   ]
  },
  {
   "cell_type": "markdown",
   "id": "5bfa2c8e",
   "metadata": {},
   "source": [
    "### For Loop\n",
    "\n",
    "Used to iterate over a sequence (like a list, tuple, string, or range).\n"
   ]
  },
  {
   "cell_type": "code",
   "execution_count": null,
   "id": "53c19a2c",
   "metadata": {},
   "outputs": [],
   "source": [
    "# Example 1: Print numbers from 1 to 5\n",
    "for i in range(1, 6):\n",
    "    print(i)  # i takes values 1, 2, 3, 4, 5"
   ]
  },
  {
   "cell_type": "markdown",
   "id": "a104343a",
   "metadata": {},
   "source": [
    "**Step by Step:**\n",
    "\n",
    "1. `range(1, 6)` creates numbers 1, 2, 3, 4, 5 (6 is not included).\n",
    "2. Each time, `i` takes the next value from the range.\n",
    "3. The code inside the loop runs for each value.\n"
   ]
  },
  {
   "cell_type": "code",
   "execution_count": null,
   "id": "bf987596",
   "metadata": {},
   "outputs": [],
   "source": [
    "# Example 2: Loop through a list\n",
    "fruits = [\"apple\", \"banana\", \"cherry\"]\n",
    "for fruit in fruits:\n",
    "    print(fruit)"
   ]
  },
  {
   "cell_type": "markdown",
   "id": "c621e73e",
   "metadata": {},
   "source": [
    "### While Loop\n",
    "\n",
    "Repeats as long as a condition is True.\n"
   ]
  },
  {
   "cell_type": "code",
   "execution_count": null,
   "id": "588315ff",
   "metadata": {},
   "outputs": [],
   "source": [
    "# Example: Print numbers from 1 to 5 using while loop\n",
    "i = 1\n",
    "while i <= 5:\n",
    "    print(i)\n",
    "    i += 1  # Increase i by 1 each time"
   ]
  },
  {
   "cell_type": "markdown",
   "id": "a027bd2c",
   "metadata": {},
   "source": [
    "**Step by Step:**\n",
    "\n",
    "1. Start with `i = 1`.\n",
    "2. Check if `i <= 5`. If yes, run the code inside.\n",
    "3. Print `i`.\n",
    "4. Increase `i` by 1 (`i += 1`).\n",
    "5. Repeat steps 2-4 until `i` becomes 6 (condition is False).\n"
   ]
  },
  {
   "cell_type": "markdown",
   "id": "41e37c8f",
   "metadata": {},
   "source": [
    "### Loop Control Statements\n",
    "\n",
    "- `break`: Exit the loop early\n",
    "- `continue`: Skip to the next iteration\n",
    "\n",
    "#### Example:\n"
   ]
  },
  {
   "cell_type": "code",
   "execution_count": null,
   "id": "eea55890",
   "metadata": {},
   "outputs": [],
   "source": [
    "# Print numbers 1 to 5, but skip 3\n",
    "for i in range(1, 6):\n",
    "    if i == 3:\n",
    "        continue  # Skip the rest of the loop for i=3\n",
    "    print(i)"
   ]
  },
  {
   "cell_type": "code",
   "execution_count": null,
   "id": "ad87d639",
   "metadata": {},
   "outputs": [],
   "source": [
    "# Print numbers 1 to 5, but stop at 3\n",
    "for i in range(1, 6):\n",
    "    if i == 3:\n",
    "        break  # Exit the loop when i=3\n",
    "    print(i)"
   ]
  },
  {
   "cell_type": "markdown",
   "id": "62f8695e",
   "metadata": {},
   "source": [
    "## Summary\n",
    "\n",
    "- Practice variables, lists, dictionaries, functions, conditionals, and especially loops.\n",
    "- Loops are very important for DSA. Try writing your own examples to get comfortable.\n"
   ]
  },
  {
   "cell_type": "markdown",
   "id": "818d9e46",
   "metadata": {},
   "source": [
    "## 3. Operators in Python\n",
    "\n",
    "- Arithmetic: `+`, `-`, `*`, `/`, `//`, `%`, `**`\n",
    "- Comparison: `==`, `!=`, `>`, `<`, `>=`, `<=`\n",
    "- Logical: `and`, `or`, `not`\n",
    "- Assignment: `=`, `+=`, `-=`, etc.\n",
    "- Membership: `in`, `not in`\n",
    "- Identity: `is`, `is not`\n"
   ]
  },
  {
   "cell_type": "code",
   "execution_count": null,
   "id": "46770dc8",
   "metadata": {},
   "outputs": [],
   "source": [
    "# Arithmetic Operators\n",
    "x = 5\n",
    "y = 2\n",
    "print(x + y, x - y, x * y, x / y, x // y, x % y, x**y)"
   ]
  },
  {
   "cell_type": "markdown",
   "id": "33e9dcca",
   "metadata": {},
   "source": [
    "## 4. Strings\n",
    "\n",
    "- Immutable sequences of characters\n",
    "- Common methods: `.lower()`, `.upper()`, `.find()`, `.replace()`, `.split()`, `.join()`\n"
   ]
  },
  {
   "cell_type": "code",
   "execution_count": null,
   "id": "059334e6",
   "metadata": {},
   "outputs": [],
   "source": [
    "s = \"Hello World\"\n",
    "print(s.lower(), s.upper(), s.find(\"o\"), s.replace(\"World\", \"Python\"))\n",
    "words = s.split()\n",
    "print(words)\n",
    "print(\"-\".join(words))"
   ]
  },
  {
   "cell_type": "markdown",
   "id": "a3a76e4f",
   "metadata": {},
   "source": [
    "## 5. Tuples\n",
    "\n",
    "- Immutable, ordered collections\n",
    "- Useful for fixed data\n"
   ]
  },
  {
   "cell_type": "code",
   "execution_count": null,
   "id": "17666b73",
   "metadata": {},
   "outputs": [],
   "source": [
    "t = (1, 2, 3)\n",
    "print(t[0], len(t))"
   ]
  },
  {
   "cell_type": "markdown",
   "id": "36c7ecd8",
   "metadata": {},
   "source": [
    "## 6. Sets\n",
    "\n",
    "- Unordered, unique elements\n",
    "- Useful for membership tests and removing duplicates\n"
   ]
  },
  {
   "cell_type": "code",
   "execution_count": null,
   "id": "5177cc1a",
   "metadata": {},
   "outputs": [],
   "source": [
    "s = {1, 2, 3, 2}\n",
    "print(s)\n",
    "s.add(4)\n",
    "s.remove(2)\n",
    "print(s)"
   ]
  },
  {
   "cell_type": "markdown",
   "id": "5d8201ff",
   "metadata": {},
   "source": [
    "## 7. Conditionals\n",
    "\n",
    "- `if`, `elif`, `else`\n"
   ]
  },
  {
   "cell_type": "code",
   "execution_count": null,
   "id": "9df844db",
   "metadata": {},
   "outputs": [],
   "source": [
    "x = 10\n",
    "if x > 0:\n",
    "    print(\"Positive\")\n",
    "elif x == 0:\n",
    "    print(\"Zero\")\n",
    "else:\n",
    "    print(\"Negative\")"
   ]
  },
  {
   "cell_type": "markdown",
   "id": "65ae4951",
   "metadata": {},
   "source": [
    "## 8. Functions\n",
    "\n",
    "- Reusable blocks of code\n",
    "- Use `def` keyword\n"
   ]
  },
  {
   "cell_type": "code",
   "execution_count": null,
   "id": "f971eec5",
   "metadata": {},
   "outputs": [],
   "source": [
    "def add(a, b):\n",
    "    return a + b\n",
    "\n",
    "\n",
    "print(add(2, 3))"
   ]
  },
  {
   "cell_type": "markdown",
   "id": "42d2b121",
   "metadata": {},
   "source": [
    "## 9. Modules & Imports\n",
    "\n",
    "- Use `import` to include standard or custom modules\n"
   ]
  },
  {
   "cell_type": "code",
   "execution_count": null,
   "id": "a8749b5f",
   "metadata": {},
   "outputs": [],
   "source": [
    "import math\n",
    "\n",
    "\n",
    "print(math.sqrt(16))"
   ]
  },
  {
   "cell_type": "markdown",
   "id": "2e928ab2",
   "metadata": {},
   "source": [
    "## 10. List Comprehensions\n",
    "\n",
    "- Short way to create lists\n"
   ]
  },
  {
   "cell_type": "code",
   "execution_count": null,
   "id": "e40b3a8c",
   "metadata": {},
   "outputs": [],
   "source": [
    "squares = [x * x for x in range(1, 6)]\n",
    "print(squares)"
   ]
  },
  {
   "cell_type": "markdown",
   "id": "3945b39b",
   "metadata": {},
   "source": [
    "## 11. Exception Handling\n",
    "\n",
    "- Use `try`, `except` to handle errors\n"
   ]
  },
  {
   "cell_type": "code",
   "execution_count": null,
   "id": "03970556",
   "metadata": {},
   "outputs": [],
   "source": [
    "try:\n",
    "    print(10 / 0)\n",
    "except ZeroDivisionError:\n",
    "    print(\"Cannot divide by zero\")"
   ]
  },
  {
   "cell_type": "markdown",
   "id": "da3c3baf",
   "metadata": {},
   "source": [
    "## 12. File Handling\n",
    "\n",
    "- Read/write files using `open()`\n"
   ]
  },
  {
   "cell_type": "code",
   "execution_count": null,
   "id": "f3779638",
   "metadata": {},
   "outputs": [],
   "source": [
    "# Writing to a file\n",
    "with open(\"sample.txt\", \"w\") as f:\n",
    "    f.write(\"Hello, file!\")\n",
    "# Reading from a file\n",
    "with open(\"sample.txt\", \"r\") as f:\n",
    "    print(f.read())"
   ]
  },
  {
   "cell_type": "markdown",
   "id": "d50d5bdc",
   "metadata": {},
   "source": [
    "## 13. Classes & Objects (Basics)\n",
    "\n",
    "- Object-oriented programming in Python\n"
   ]
  },
  {
   "cell_type": "code",
   "execution_count": null,
   "id": "3c1970b9",
   "metadata": {},
   "outputs": [],
   "source": [
    "class Person:\n",
    "    def __init__(self, name):\n",
    "        self.name = name\n",
    "\n",
    "    def greet(self):\n",
    "        print(\"Hello,\", self.name)\n",
    "\n",
    "\n",
    "p = Person(\"Alice\")\n",
    "p.greet()"
   ]
  },
  {
   "cell_type": "markdown",
   "id": "461d46d3",
   "metadata": {},
   "source": [
    "## Summary\n",
    "\n",
    "- Practice variables, lists, dictionaries, functions, conditionals, and especially loops.\n",
    "- Loops are very important for DSA. Try writing your own examples to get comfortable.\n"
   ]
  }
 ],
 "metadata": {
  "language_info": {
   "name": "python"
  }
 },
 "nbformat": 4,
 "nbformat_minor": 5
}
