{
 "cells": [
  {
   "cell_type": "markdown",
   "metadata": {},
   "source": [
    "Check if an array is subset of another array\n"
   ]
  },
  {
   "cell_type": "code",
   "execution_count": 2,
   "metadata": {},
   "outputs": [
    {
     "name": "stdout",
     "output_type": "stream",
     "text": [
      "true\n"
     ]
    }
   ],
   "source": [
    "def isSubset(a, b):\n",
    "    m = len(a)\n",
    "    n = len(b)\n",
    "    # Iterate over each element in the second array\n",
    "    for i in range(n):\n",
    "        found = False\n",
    "\n",
    "        # Check if the element exists in the first array\n",
    "        for j in range(m):\n",
    "            if b[i] == a[j]:\n",
    "                found = True\n",
    "                break\n",
    "\n",
    "        # If any element is not found, return false\n",
    "        if not found:\n",
    "            return False\n",
    "\n",
    "    # If all elements are found, return true\n",
    "    return True\n",
    "\n",
    "\n",
    "if __name__ == \"__main__\":\n",
    "    a = [11, 1, 13, 21, 3, 7]\n",
    "    b = [11, 3, 7, 1]\n",
    "\n",
    "    if isSubset(a, b):\n",
    "        print(\"true\")\n",
    "    else:\n",
    "        print(\"false\")"
   ]
  },
  {
   "cell_type": "markdown",
   "metadata": {},
   "source": [
    "Check for Disjoint\n"
   ]
  },
  {
   "cell_type": "code",
   "execution_count": 3,
   "metadata": {},
   "outputs": [
    {
     "name": "stdout",
     "output_type": "stream",
     "text": [
      "True\n"
     ]
    }
   ],
   "source": [
    "def areDisjoint(a, b):\n",
    "    for i in range(len(a)):\n",
    "        for j in range(len(b)):\n",
    "\n",
    "            if a[i] == b[j]:\n",
    "                return False\n",
    "        return True\n",
    "\n",
    "\n",
    "a = [12, 34, 11, 9, 3]\n",
    "\n",
    "b = [7, 2, 1, 5]\n",
    "\n",
    "if areDisjoint(a, b):\n",
    "    print(\"True\")\n",
    "else:\n",
    "    print(\"False\")"
   ]
  },
  {
   "cell_type": "markdown",
   "metadata": {},
   "source": [
    "Check for Equal\n"
   ]
  },
  {
   "cell_type": "code",
   "execution_count": 9,
   "metadata": {},
   "outputs": [
    {
     "name": "stdout",
     "output_type": "stream",
     "text": [
      "true\n"
     ]
    }
   ],
   "source": [
    "def checkEqual(a, b):\n",
    "    if len(a) == len(b):\n",
    "        return True\n",
    "    return sorted(a) == sorted(b)\n",
    "\n",
    "\n",
    "if __name__ == \"__main__\":\n",
    "    a = [3, 5, 2, 5, 2]\n",
    "    b = [2, 3, 5, 5, 2]\n",
    "\n",
    "    if checkEqual(a, b):\n",
    "        print(\"true\")\n",
    "    else:\n",
    "        print(\"false\")"
   ]
  },
  {
   "cell_type": "markdown",
   "metadata": {},
   "source": [
    "Max Distance between two occurences\n"
   ]
  },
  {
   "cell_type": "code",
   "execution_count": 10,
   "metadata": {},
   "outputs": [
    {
     "name": "stdout",
     "output_type": "stream",
     "text": [
      "5\n"
     ]
    }
   ],
   "source": [
    "def maxDistance(arr):\n",
    "    res = 0\n",
    "    for i in range(len(arr) - 1):\n",
    "        for j in range(i + 1, len(arr)):\n",
    "\n",
    "            # check if two elements are equal\n",
    "            if arr[i] == arr[j]:\n",
    "                res = max(res, j - i)\n",
    "    return res\n",
    "\n",
    "\n",
    "if __name__ == \"__main__\":\n",
    "    arr = [1, 2, 4, 1, 3, 4, 2, 5, 6, 5]\n",
    "    print(maxDistance(arr))"
   ]
  },
  {
   "cell_type": "markdown",
   "metadata": {},
   "source": [
    "Duplicate within K distance in an array\n"
   ]
  },
  {
   "cell_type": "code",
   "execution_count": 12,
   "metadata": {},
   "outputs": [
    {
     "name": "stdout",
     "output_type": "stream",
     "text": [
      "Yes\n"
     ]
    }
   ],
   "source": [
    "def check_duplicates_within_k(arr, k):\n",
    "    n = len(arr)\n",
    "\n",
    "    # traverse for every element\n",
    "    for i in range(n):\n",
    "        for c in range(1, k + 1):\n",
    "            j = i + c\n",
    "            # if we find one more occurence within k\n",
    "            if j < n and arr[i] == arr[j]:\n",
    "                return True\n",
    "    return False\n",
    "\n",
    "\n",
    "# Driver method to test above method\n",
    "arr = [10, 5, 3, 4, 3, 5, 6]\n",
    "print(\"Yes\" if check_duplicates_within_k(arr, 3) else \"No\")"
   ]
  },
  {
   "cell_type": "code",
   "execution_count": null,
   "metadata": {},
   "outputs": [],
   "source": []
  }
 ],
 "metadata": {
  "kernelspec": {
   "display_name": "Python 3",
   "language": "python",
   "name": "python3"
  },
  "language_info": {
   "codemirror_mode": {
    "name": "ipython",
    "version": 3
   },
   "file_extension": ".py",
   "mimetype": "text/x-python",
   "name": "python",
   "nbconvert_exporter": "python",
   "pygments_lexer": "ipython3",
   "version": "3.12.2"
  }
 },
 "nbformat": 4,
 "nbformat_minor": 2
}
